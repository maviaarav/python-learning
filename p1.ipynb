{
 "cells": [
  {
   "cell_type": "code",
   "execution_count": 9,
   "metadata": {},
   "outputs": [
    {
     "name": "stdout",
     "output_type": "stream",
     "text": [
      "Hi 12\n"
     ]
    }
   ],
   "source": [
    "print(\"Hello World1\")"
   ]
  },
  {
   "cell_type": "code",
   "execution_count": null,
   "metadata": {},
   "outputs": [],
   "source": [
    "number = input(\"Enter any integer number \")\n",
    "intNumber = int(number)\n",
    "\n",
    "reminder = intNumber % 2;\n",
    "\n",
    "if reminder > 0:\n",
    "  print(\"Weird\")"
   ]
  },
  {
   "cell_type": "code",
   "execution_count": 15,
   "metadata": {},
   "outputs": [
    {
     "name": "stdout",
     "output_type": "stream",
     "text": [
      "Not weird\n"
     ]
    }
   ],
   "source": [
    "n = input(\"Enter any integar\")\n",
    "intn = int(n)\n",
    "\n",
    "remainder = intn % 2\n",
    "\n",
    "if remainder > 0:\n",
    "  print(\"Weird\")\n",
    "else:\n",
    "  print (\"Not weird\")"
   ]
  },
  {
   "cell_type": "code",
   "execution_count": 3,
   "metadata": {},
   "outputs": [
    {
     "name": "stdout",
     "output_type": "stream",
     "text": [
      "weird\n"
     ]
    }
   ],
   "source": [
    "n = input(\"Write any intergar\")\n",
    "intn = int(n)\n",
    "remainder = intn % 2\n",
    "if remainder >0 :\n",
    "  print (\"not weird\")\n",
    "\n",
    "elif intn <2  and intn >5 :\n",
    "  print (\"not weird\")\n",
    "else:\n",
    "  print(\"weird\")"
   ]
  },
  {
   "cell_type": "code",
   "execution_count": null,
   "metadata": {},
   "outputs": [],
   "source": []
  }
 ],
 "metadata": {
  "interpreter": {
   "hash": "aee8b7b246df8f9039afb4144a1f6fd8d2ca17a180786b69acc140d282b71a49"
  },
  "kernelspec": {
   "display_name": "Python 3.9.7 64-bit",
   "name": "python3"
  },
  "language_info": {
   "codemirror_mode": {
    "name": "ipython",
    "version": 3
   },
   "file_extension": ".py",
   "mimetype": "text/x-python",
   "name": "python",
   "nbconvert_exporter": "python",
   "pygments_lexer": "ipython3",
   "version": "3.9.7"
  },
  "orig_nbformat": 4
 },
 "nbformat": 4,
 "nbformat_minor": 2
}
